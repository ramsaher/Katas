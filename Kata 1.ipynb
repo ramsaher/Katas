{
 "cells": [
  {
   "cell_type": "markdown",
   "metadata": {},
   "source": [
    "LA FECHA DE HOY"
   ]
  },
  {
   "cell_type": "code",
   "execution_count": 4,
   "metadata": {},
   "outputs": [
    {
     "name": "stdout",
     "output_type": "stream",
     "text": [
      "Bienvenido \n",
      "Saludos:Ramiro\n",
      "Que deseas saber\n",
      "Today's date is:2022-02-09\n"
     ]
    }
   ],
   "source": [
    "print(\"Bienvenido \")\n",
    "name = input(\"Introduzca su nombre\")\n",
    "print(\"Saludos:\"+ name)\n",
    "print (\"Que deseas saber\")\n",
    "\n",
    "# Importamos la biblioteca \n",
    "from datetime import date\n",
    "\n",
    "# Obtenemos la fecha de hoy\n",
    "date.today()\n",
    "\n",
    "# Mostramos la fecha en la consola\n",
    "\n",
    "print(\"Today's date is:\"+ str (date.today()) )\n",
    "  \n"
   ]
  },
  {
   "cell_type": "markdown",
   "metadata": {},
   "source": [
    "CONVERTIDOR DE UNIDADES"
   ]
  },
  {
   "cell_type": "code",
   "execution_count": 44,
   "metadata": {},
   "outputs": [
    {
     "name": "stdout",
     "output_type": "stream",
     "text": [
      "Calculadora para convertir Parsec  \n",
      "30 parsec, son 97.84679999999999 años luz\n"
     ]
    }
   ],
   "source": [
    "print(\"Calculadora para convertir Parsec  \")\n",
    "Parsec = int (input(\"Inserte el valor Parsec:\"))\n",
    "lightyears = Parsec * 3.26156\n",
    "print (str(Parsec) + \" parsec, son \" +str (lightyears )+ \" \"\"años luz\")\n",
    "\n",
    "\n"
   ]
  }
 ],
 "metadata": {
  "interpreter": {
   "hash": "9d29db56a35b52f63f0ad96ff4782f7e7ad05eafac265035f90582f00a919df3"
  },
  "kernelspec": {
   "display_name": "Python 3.10.2 ('env': venv)",
   "language": "python",
   "name": "python3"
  },
  "language_info": {
   "codemirror_mode": {
    "name": "ipython",
    "version": 3
   },
   "file_extension": ".py",
   "mimetype": "text/x-python",
   "name": "python",
   "nbconvert_exporter": "python",
   "pygments_lexer": "ipython3",
   "version": "3.10.2"
  },
  "orig_nbformat": 4
 },
 "nbformat": 4,
 "nbformat_minor": 2
}
